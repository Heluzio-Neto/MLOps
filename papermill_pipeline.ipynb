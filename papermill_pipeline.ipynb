{
 "cells": [
  {
   "cell_type": "markdown",
   "id": "92b695e0",
   "metadata": {},
   "source": [
    "## Papermill papeline"
   ]
  },
  {
   "cell_type": "code",
   "execution_count": 1,
   "id": "8b3b1068",
   "metadata": {},
   "outputs": [],
   "source": [
    "import papermill as pm\n",
    "import subprocess\n",
    "import mlflow\n",
    "import os"
   ]
  },
  {
   "cell_type": "code",
   "execution_count": 2,
   "id": "6ec5de89",
   "metadata": {},
   "outputs": [],
   "source": [
    "def generate_html_report(notebook_file):\n",
    "    generate = subprocess.run(\n",
    "        [\n",
    "            \"jupyter\",\n",
    "            \"nbconvert\",\n",
    "            notebook_file,\n",
    "            \"--to=html\",\n",
    "        ]\n",
    "    )\n",
    "    print(\"HTML exportado!\")\n",
    "    return True"
   ]
  },
  {
   "cell_type": "code",
   "execution_count": 6,
   "id": "f14b8161",
   "metadata": {},
   "outputs": [
    {
     "name": "stderr",
     "output_type": "stream",
     "text": [
      "Black is not installed, parameters wont be formatted\n",
      "Executing: 100%|█████████████████████████████████████████████████████████████████████████████████████████████████| 28/28 [00:04<00:00,  5.88cell/s]\n"
     ]
    },
    {
     "name": "stdout",
     "output_type": "stream",
     "text": [
      "HTML exportado!\n"
     ]
    }
   ],
   "source": [
    "output_path = 'eda-data-science-fields-salary-categorization_output.ipynb' \n",
    "#TODO: First execute papermil\n",
    "pm.execute_notebook( input_path='eda-data-science-fields-salary-categorization.ipynb',\n",
    "                    parameters = {'DESIGNATION' : ['Data Scientist']},\n",
    "                    output_path=output_path)\n",
    "# TODO: Create auxiliary function to export the notebook to HTML\n",
    "generate_html_report(output_path)\n",
    "# TODO: Read from MlFlow last execution\n",
    "experiment_id = '0'\n",
    "df = mlflow.search_runs([experiment_id])\n",
    "RUN_ID = df.loc[0,'run_id']\n",
    "\n",
    "with mlflow.start_run(run_id = RUN_ID):\n",
    "    mlflow.log_artifact(\"{}.html\".format(output_path[:-6]))\n",
    "# TODO: Save on MlFlow the HTML"
   ]
  },
  {
   "cell_type": "markdown",
   "id": "3aa9c342",
   "metadata": {},
   "source": [
    "### Last mlflow run"
   ]
  },
  {
   "cell_type": "code",
   "execution_count": null,
   "id": "bfb7c97a",
   "metadata": {
    "scrolled": true
   },
   "outputs": [],
   "source": []
  },
  {
   "cell_type": "markdown",
   "id": "e8d03d51",
   "metadata": {},
   "source": [
    "### Min salary between groups"
   ]
  },
  {
   "cell_type": "code",
   "execution_count": null,
   "id": "bee33752",
   "metadata": {},
   "outputs": [],
   "source": []
  }
 ],
 "metadata": {
  "kernelspec": {
   "display_name": "Python 3 (ipykernel)",
   "language": "python",
   "name": "python3"
  },
  "language_info": {
   "codemirror_mode": {
    "name": "ipython",
    "version": 3
   },
   "file_extension": ".py",
   "mimetype": "text/x-python",
   "name": "python",
   "nbconvert_exporter": "python",
   "pygments_lexer": "ipython3",
   "version": "3.10.5"
  }
 },
 "nbformat": 4,
 "nbformat_minor": 5
}
