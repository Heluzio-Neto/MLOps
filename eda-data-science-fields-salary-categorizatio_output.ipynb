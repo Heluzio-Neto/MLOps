{
 "cells": [
  {
   "cell_type": "markdown",
   "id": "a07b37c2",
   "metadata": {
    "tags": [
     "papermill-error-cell-tag"
    ]
   },
   "source": [
    "<span style=\"color:red; font-family:Helvetica Neue, Helvetica, Arial, sans-serif; font-size:2em;\">An Exception was encountered at '<a href=\"#papermill-error-cell\">In [2]</a>'.</span>"
   ]
  },
  {
   "cell_type": "markdown",
   "id": "f9a9ffbe",
   "metadata": {
    "papermill": {
     "duration": 0.0,
     "end_time": "2022-10-19T15:30:46.264485",
     "exception": false,
     "start_time": "2022-10-19T15:30:46.264485",
     "status": "completed"
    },
    "tags": []
   },
   "source": [
    "# Step 1: Reading about data set"
   ]
  },
  {
   "cell_type": "markdown",
   "id": "f158578a",
   "metadata": {
    "papermill": {
     "duration": 0.008786,
     "end_time": "2022-10-19T15:30:46.273271",
     "exception": false,
     "start_time": "2022-10-19T15:30:46.264485",
     "status": "completed"
    },
    "tags": []
   },
   "source": [
    "Data Science Fields Salary Categorization Dataset contains 9 columns :\n",
    "\n",
    "* Working Year - 2020, 2021, 2022 \n",
    "* Designation \n",
    "* Experience - Entry level, Mid level, Senior level, Executive level\n",
    "* Employment Status - Part time, Full time, Contract, Freelance \n",
    "* Gross Salary In Rupees \n",
    "* Employee Location - ISO 3166\n",
    "* Company Location \n",
    "* Company Size\n",
    "* Remote Working Ratio \n",
    "\n",
    "https://www.kaggle.com/datasets/whenamancodes/data-science-fields-salary-categorization?resource=download"
   ]
  },
  {
   "cell_type": "markdown",
   "id": "6120f66f",
   "metadata": {
    "papermill": {
     "duration": 0.0,
     "end_time": "2022-10-19T15:30:46.274289",
     "exception": false,
     "start_time": "2022-10-19T15:30:46.274289",
     "status": "completed"
    },
    "tags": []
   },
   "source": [
    "![](https://assets.materialup.com/uploads/63ea9d4f-e3e2-4a03-8bf9-23a0fbe9aecc/preview.jpg)"
   ]
  },
  {
   "cell_type": "markdown",
   "id": "c07d21a6",
   "metadata": {
    "papermill": {
     "duration": 0.0,
     "end_time": "2022-10-19T15:30:46.281711",
     "exception": false,
     "start_time": "2022-10-19T15:30:46.281711",
     "status": "completed"
    },
    "tags": []
   },
   "source": [
    "# Step 2: Importing libraries"
   ]
  },
  {
   "cell_type": "code",
   "execution_count": 1,
   "id": "fc315984",
   "metadata": {
    "_cell_guid": "b1076dfc-b9ad-4769-8c92-a6c4dae69d19",
    "_uuid": "8f2839f25d086af736a60e9eeb907d3b93b6e0e5",
    "execution": {
     "iopub.execute_input": "2022-10-19T15:30:46.289222Z",
     "iopub.status.busy": "2022-10-19T15:30:46.289222Z",
     "iopub.status.idle": "2022-10-19T15:30:47.178579Z",
     "shell.execute_reply": "2022-10-19T15:30:47.178579Z"
    },
    "papermill": {
     "duration": 0.896868,
     "end_time": "2022-10-19T15:30:47.178579",
     "exception": false,
     "start_time": "2022-10-19T15:30:46.281711",
     "status": "completed"
    },
    "scrolled": true,
    "tags": []
   },
   "outputs": [
    {
     "name": "stdout",
     "output_type": "stream",
     "text": [
      "./data\\Data_Science_Fields_Salary_Categorization.csv\n"
     ]
    }
   ],
   "source": [
    "import pandas as pd \n",
    "import matplotlib.pyplot as plt\n",
    "import seaborn as sns\n",
    "import mlflow\n",
    "\n",
    "import os\n",
    "for dirname, _, filenames in os.walk('./data'):\n",
    "    for filename in filenames:\n",
    "        print(os.path.join(dirname, filename))"
   ]
  },
  {
   "cell_type": "markdown",
   "id": "a7729955",
   "metadata": {
    "papermill": {
     "duration": 0.0,
     "end_time": "2022-10-19T15:30:47.178579",
     "exception": false,
     "start_time": "2022-10-19T15:30:47.178579",
     "status": "completed"
    },
    "tags": []
   },
   "source": [
    "# Step 3: Importing the data set"
   ]
  },
  {
   "cell_type": "markdown",
   "id": "2ea39738",
   "metadata": {
    "tags": [
     "papermill-error-cell-tag"
    ]
   },
   "source": [
    "<span id=\"papermill-error-cell\" style=\"color:red; font-family:Helvetica Neue, Helvetica, Arial, sans-serif; font-size:2em;\">Execution using papermill encountered an exception here and stopped:</span>"
   ]
  },
  {
   "cell_type": "code",
   "execution_count": 2,
   "id": "193c9cdd",
   "metadata": {
    "execution": {
     "iopub.execute_input": "2022-10-19T15:30:47.189195Z",
     "iopub.status.busy": "2022-10-19T15:30:47.189195Z",
     "iopub.status.idle": "2022-10-19T15:30:47.495744Z",
     "shell.execute_reply": "2022-10-19T15:30:47.495744Z"
    },
    "papermill": {
     "duration": 0.306549,
     "end_time": "2022-10-19T15:30:47.495744",
     "exception": true,
     "start_time": "2022-10-19T15:30:47.189195",
     "status": "failed"
    },
    "scrolled": false,
    "tags": []
   },
   "outputs": [
    {
     "ename": "NameError",
     "evalue": "name 'DESIGNATION' is not defined",
     "output_type": "error",
     "traceback": [
      "\u001b[1;31m---------------------------------------------------------------------------\u001b[0m",
      "\u001b[1;31mNameError\u001b[0m                                 Traceback (most recent call last)",
      "Cell \u001b[1;32mIn [2], line 6\u001b[0m\n\u001b[0;32m      2\u001b[0m df \u001b[38;5;241m=\u001b[39m pd\u001b[38;5;241m.\u001b[39mread_csv(\u001b[38;5;124m'\u001b[39m\u001b[38;5;124m./data/Data_Science_Fields_Salary_Categorization.csv\u001b[39m\u001b[38;5;124m'\u001b[39m)\n\u001b[0;32m      4\u001b[0m \u001b[38;5;66;03m#DESIGNATION = ['Data Scientist','Machine Learning Engineer']\u001b[39;00m\n\u001b[1;32m----> 6\u001b[0m df \u001b[38;5;241m=\u001b[39m df[df[\u001b[38;5;124m'\u001b[39m\u001b[38;5;124mDesignation\u001b[39m\u001b[38;5;124m'\u001b[39m]\u001b[38;5;241m.\u001b[39misin(\u001b[43mDESIGNATION\u001b[49m)]\n\u001b[0;32m      8\u001b[0m \u001b[38;5;66;03m# Display the 5 rows\u001b[39;00m\n\u001b[0;32m      9\u001b[0m df\u001b[38;5;241m.\u001b[39msample(\u001b[38;5;241m5\u001b[39m)\n",
      "\u001b[1;31mNameError\u001b[0m: name 'DESIGNATION' is not defined"
     ]
    }
   ],
   "source": [
    "# Read the dataset above\n",
    "df = pd.read_csv('./data/Data_Science_Fields_Salary_Categorization.csv')\n",
    "\n",
    "#DESIGNATION = ['Data Scientist','Machine Learning Engineer']\n",
    "\n",
    "df = df[df['Designation'].isin(DESIGNATION)]\n",
    "\n",
    "# Display the 5 rows\n",
    "df.sample(5)"
   ]
  },
  {
   "cell_type": "code",
   "execution_count": null,
   "id": "d7b8c9b3",
   "metadata": {
    "papermill": {
     "duration": null,
     "end_time": null,
     "exception": null,
     "start_time": null,
     "status": "pending"
    },
    "tags": []
   },
   "outputs": [],
   "source": [
    "# delete one by one like column is 'Unnamed: 0' so use it's name\n",
    "df.drop('Unnamed: 0', axis=1, inplace=True)"
   ]
  },
  {
   "cell_type": "code",
   "execution_count": null,
   "id": "59bf1b98",
   "metadata": {
    "execution": {
     "iopub.execute_input": "2022-09-15T06:46:50.149531Z",
     "iopub.status.busy": "2022-09-15T06:46:50.148423Z",
     "iopub.status.idle": "2022-09-15T06:46:50.172116Z",
     "shell.execute_reply": "2022-09-15T06:46:50.171213Z"
    },
    "papermill": {
     "duration": null,
     "end_time": null,
     "exception": null,
     "start_time": null,
     "status": "pending"
    },
    "tags": []
   },
   "outputs": [],
   "source": [
    "df.info()"
   ]
  },
  {
   "cell_type": "code",
   "execution_count": null,
   "id": "e0e8ed81",
   "metadata": {
    "execution": {
     "iopub.execute_input": "2022-09-15T06:46:50.189240Z",
     "iopub.status.busy": "2022-09-15T06:46:50.188623Z",
     "iopub.status.idle": "2022-09-15T06:46:50.210268Z",
     "shell.execute_reply": "2022-09-15T06:46:50.209157Z"
    },
    "papermill": {
     "duration": null,
     "end_time": null,
     "exception": null,
     "start_time": null,
     "status": "pending"
    },
    "tags": []
   },
   "outputs": [],
   "source": [
    "df.describe()"
   ]
  },
  {
   "cell_type": "markdown",
   "id": "1c794a51",
   "metadata": {
    "papermill": {
     "duration": null,
     "end_time": null,
     "exception": null,
     "start_time": null,
     "status": "pending"
    },
    "tags": []
   },
   "source": [
    "# Step 4: Exploring the salary distribution among disciplines over 3 years"
   ]
  },
  {
   "cell_type": "code",
   "execution_count": null,
   "id": "62f1371b",
   "metadata": {
    "execution": {
     "iopub.execute_input": "2022-09-15T06:46:50.240088Z",
     "iopub.status.busy": "2022-09-15T06:46:50.239358Z",
     "iopub.status.idle": "2022-09-15T06:46:50.255822Z",
     "shell.execute_reply": "2022-09-15T06:46:50.254843Z"
    },
    "papermill": {
     "duration": null,
     "end_time": null,
     "exception": null,
     "start_time": null,
     "status": "pending"
    },
    "tags": []
   },
   "outputs": [],
   "source": [
    "#for convenience, it was decided to count salaries in dollars, and the exchange rate was based on 09/15/2022, which is 1 rupees = 0.013 dollars.\n",
    "\n",
    "df['Salary_In_Rupees'] = df['Salary_In_Rupees'].str.replace(',', '')\n",
    "df['Salary_In_Rupees'] = pd.to_numeric(df['Salary_In_Rupees'])\n",
    "df['Salary_In_Dollars'] = df['Salary_In_Rupees']*0.013\n",
    "\n",
    "df.info()"
   ]
  },
  {
   "cell_type": "code",
   "execution_count": null,
   "id": "2a0d70b1",
   "metadata": {
    "execution": {
     "iopub.execute_input": "2022-09-15T06:46:50.273950Z",
     "iopub.status.busy": "2022-09-15T06:46:50.273197Z",
     "iopub.status.idle": "2022-09-15T06:46:54.069580Z",
     "shell.execute_reply": "2022-09-15T06:46:54.068301Z"
    },
    "papermill": {
     "duration": null,
     "end_time": null,
     "exception": null,
     "start_time": null,
     "status": "pending"
    },
    "tags": []
   },
   "outputs": [],
   "source": [
    "plt.figure(figsize = (20,60))\n",
    "\n",
    "sns.catplot(x = 'Salary_In_Dollars',\n",
    "            y = 'Designation',\n",
    "            kind = \"bar\",\n",
    "            height = 15,\n",
    "            hue = 'Working_Year',\n",
    "            aspect = 0.8,\n",
    "            data = df).set(title = \"Position vs Salary in dollars\");\n",
    "\n",
    "plt.xticks(rotation = 60)\n",
    "plt.xlabel(\"Salary in dollars\",fontsize=14)\n",
    "plt.ylabel(\"Discipline\",fontsize=14)\n",
    "\n",
    "plt.show()"
   ]
  },
  {
   "cell_type": "markdown",
   "id": "50e67e15",
   "metadata": {
    "papermill": {
     "duration": null,
     "end_time": null,
     "exception": null,
     "start_time": null,
     "status": "pending"
    },
    "tags": []
   },
   "source": [
    "# Step 5: Exploring the salary distribution among disciplines depending on experience"
   ]
  },
  {
   "cell_type": "code",
   "execution_count": null,
   "id": "f1553cc4",
   "metadata": {
    "execution": {
     "iopub.execute_input": "2022-09-15T06:46:54.108150Z",
     "iopub.status.busy": "2022-09-15T06:46:54.107740Z",
     "iopub.status.idle": "2022-09-15T06:46:58.132637Z",
     "shell.execute_reply": "2022-09-15T06:46:58.131182Z"
    },
    "papermill": {
     "duration": null,
     "end_time": null,
     "exception": null,
     "start_time": null,
     "status": "pending"
    },
    "tags": []
   },
   "outputs": [],
   "source": [
    "plt.figure(figsize = (20,60))\n",
    "\n",
    "sns.catplot(x = 'Salary_In_Dollars',\n",
    "            y = 'Designation',\n",
    "            kind = \"bar\",\n",
    "            hue = 'Experience',\n",
    "            height = 15,\n",
    "            aspect = 0.8,\n",
    "            data = df).set(title = \"Position vs Salary in dollars\");\n",
    "\n",
    "plt.xticks(rotation = 60)\n",
    "plt.xlabel(\"Salary in dollars\",fontsize=14)\n",
    "plt.ylabel(\"Disciplines\",fontsize=14)\n",
    "\n",
    "plt.show()"
   ]
  },
  {
   "cell_type": "markdown",
   "id": "d25f71e9",
   "metadata": {
    "papermill": {
     "duration": null,
     "end_time": null,
     "exception": null,
     "start_time": null,
     "status": "pending"
    },
    "tags": []
   },
   "source": [
    "# Step 6: Exploring the salary distribution among disciplines depending on employment status"
   ]
  },
  {
   "cell_type": "code",
   "execution_count": null,
   "id": "bff0fccc",
   "metadata": {
    "execution": {
     "iopub.execute_input": "2022-09-15T06:46:58.178600Z",
     "iopub.status.busy": "2022-09-15T06:46:58.178121Z",
     "iopub.status.idle": "2022-09-15T06:47:01.667635Z",
     "shell.execute_reply": "2022-09-15T06:47:01.666394Z"
    },
    "papermill": {
     "duration": null,
     "end_time": null,
     "exception": null,
     "start_time": null,
     "status": "pending"
    },
    "tags": []
   },
   "outputs": [],
   "source": [
    "plt.figure(figsize = (20,60))\n",
    "\n",
    "sns.catplot(x = 'Salary_In_Dollars',\n",
    "            y = 'Designation',\n",
    "            kind = \"bar\",\n",
    "            hue = 'Employment_Status',\n",
    "            height = 15,\n",
    "            aspect = 0.8,\n",
    "            data = df).set(title = \"Position vs Salary in dollars\");\n",
    "\n",
    "plt.xticks(rotation = 60)\n",
    "plt.xlabel(\"Salary in dollars\",fontsize=14)\n",
    "plt.ylabel(\"Disciplines\",fontsize=14)\n",
    "\n",
    "plt.show()"
   ]
  },
  {
   "cell_type": "markdown",
   "id": "45b273da",
   "metadata": {
    "papermill": {
     "duration": null,
     "end_time": null,
     "exception": null,
     "start_time": null,
     "status": "pending"
    },
    "tags": []
   },
   "source": [
    "# Step 7: Exploring the salary distribution among employee locations depending on experience"
   ]
  },
  {
   "cell_type": "code",
   "execution_count": null,
   "id": "d440c216",
   "metadata": {
    "execution": {
     "iopub.execute_input": "2022-09-15T06:47:01.716256Z",
     "iopub.status.busy": "2022-09-15T06:47:01.715814Z",
     "iopub.status.idle": "2022-09-15T06:47:05.114459Z",
     "shell.execute_reply": "2022-09-15T06:47:05.113186Z"
    },
    "papermill": {
     "duration": null,
     "end_time": null,
     "exception": null,
     "start_time": null,
     "status": "pending"
    },
    "tags": []
   },
   "outputs": [],
   "source": [
    "plt.figure(figsize = (10,25))\n",
    "\n",
    "sns.catplot(x = 'Employee_Location',\n",
    "            y = 'Salary_In_Dollars',\n",
    "            kind = \"bar\",\n",
    "            height = 10,\n",
    "            hue = 'Experience',\n",
    "            aspect = 2,\n",
    "            data = df).set(title = \"Sallary in dollars vs Employee Location\");\n",
    "\n",
    "plt.xticks(rotation = 90)\n",
    "plt.xlabel(\"Employee Location\",fontsize=14)\n",
    "plt.ylabel(\"Sallary in dollars\",fontsize=14)\n",
    "\n",
    "plt.show()"
   ]
  },
  {
   "cell_type": "markdown",
   "id": "20f3e170",
   "metadata": {
    "papermill": {
     "duration": null,
     "end_time": null,
     "exception": null,
     "start_time": null,
     "status": "pending"
    },
    "tags": []
   },
   "source": [
    "# Step 8: Exploring the salary distribution among company locations depending on company size"
   ]
  },
  {
   "cell_type": "code",
   "execution_count": null,
   "id": "4d777330",
   "metadata": {
    "execution": {
     "iopub.execute_input": "2022-09-15T06:47:05.166851Z",
     "iopub.status.busy": "2022-09-15T06:47:05.165780Z",
     "iopub.status.idle": "2022-09-15T06:47:07.688855Z",
     "shell.execute_reply": "2022-09-15T06:47:07.687602Z"
    },
    "papermill": {
     "duration": null,
     "end_time": null,
     "exception": null,
     "start_time": null,
     "status": "pending"
    },
    "tags": []
   },
   "outputs": [],
   "source": [
    "plt.figure(figsize = (10,25))\n",
    "\n",
    "sns.catplot(x = 'Company_Location',\n",
    "            y = 'Salary_In_Dollars',\n",
    "            kind = \"bar\",\n",
    "            height = 10,\n",
    "            aspect = 2, \n",
    "            hue='Company_Size',\n",
    "            data = df).set(title = \"Sallary in dollars vs Company Location\");\n",
    "\n",
    "plt.xticks(rotation = 90)\n",
    "plt.xlabel(\"Company Location\",fontsize=14)\n",
    "plt.ylabel(\"Salary In Dollars\",fontsize=14)\n",
    "\n",
    "plt.show()"
   ]
  },
  {
   "cell_type": "markdown",
   "id": "265821b3",
   "metadata": {
    "papermill": {
     "duration": null,
     "end_time": null,
     "exception": null,
     "start_time": null,
     "status": "pending"
    },
    "tags": []
   },
   "source": [
    "# Step 9: Exploring the salary distribution among company locations depending on working conditions"
   ]
  },
  {
   "cell_type": "code",
   "execution_count": null,
   "id": "c6508489",
   "metadata": {
    "execution": {
     "iopub.execute_input": "2022-09-15T06:47:07.743702Z",
     "iopub.status.busy": "2022-09-15T06:47:07.742871Z",
     "iopub.status.idle": "2022-09-15T06:47:10.338599Z",
     "shell.execute_reply": "2022-09-15T06:47:10.337481Z"
    },
    "papermill": {
     "duration": null,
     "end_time": null,
     "exception": null,
     "start_time": null,
     "status": "pending"
    },
    "tags": []
   },
   "outputs": [],
   "source": [
    "plt.figure(figsize = (10,25))\n",
    "\n",
    "sns.catplot(x = 'Company_Location',\n",
    "            y = 'Salary_In_Dollars',\n",
    "            kind = \"bar\",\n",
    "            height = 10,\n",
    "            aspect = 2, \n",
    "            hue='Remote_Working_Ratio',\n",
    "            data = df).set(title = \"Sallary in dollars vs Company Location\");\n",
    "\n",
    "plt.xticks(rotation = 90)\n",
    "plt.xlabel(\"Company Location\",fontsize=14)\n",
    "plt.ylabel(\"Salary In Dollars\",fontsize=14)\n",
    "\n",
    "plt.show()"
   ]
  },
  {
   "cell_type": "markdown",
   "id": "38272fc2",
   "metadata": {
    "papermill": {
     "duration": null,
     "end_time": null,
     "exception": null,
     "start_time": null,
     "status": "pending"
    },
    "tags": []
   },
   "source": [
    "# Step 10: Save on MlFlow"
   ]
  },
  {
   "cell_type": "code",
   "execution_count": null,
   "id": "a9e3cf95",
   "metadata": {
    "papermill": {
     "duration": null,
     "end_time": null,
     "exception": null,
     "start_time": null,
     "status": "pending"
    },
    "tags": []
   },
   "outputs": [],
   "source": []
  },
  {
   "cell_type": "markdown",
   "id": "92e0d301",
   "metadata": {
    "papermill": {
     "duration": null,
     "end_time": null,
     "exception": null,
     "start_time": null,
     "status": "pending"
    },
    "tags": []
   },
   "source": [
    "From https://www.kaggle.com/code/sultansagynov/eda-data-science-fields-salary-categorization"
   ]
  }
 ],
 "metadata": {
  "kernelspec": {
   "display_name": "Python 3 (ipykernel)",
   "language": "python",
   "name": "python3"
  },
  "language_info": {
   "codemirror_mode": {
    "name": "ipython",
    "version": 3
   },
   "file_extension": ".py",
   "mimetype": "text/x-python",
   "name": "python",
   "nbconvert_exporter": "python",
   "pygments_lexer": "ipython3",
   "version": "3.10.5"
  },
  "papermill": {
   "default_parameters": {},
   "duration": 2.333291,
   "end_time": "2022-10-19T15:30:47.836629",
   "environment_variables": {},
   "exception": true,
   "input_path": "eda-data-science-fields-salary-categorization.ipynb",
   "output_path": "eda-data-science-fields-salary-categorizatio_output.ipynb",
   "parameters": {},
   "start_time": "2022-10-19T15:30:45.503338",
   "version": "2.3.4"
  }
 },
 "nbformat": 4,
 "nbformat_minor": 5
}